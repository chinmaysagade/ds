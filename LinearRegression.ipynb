{
 "cells": [
  {
   "cell_type": "markdown",
   "metadata": {
    "collapsed": true
   },
   "source": [
    "#### Linear Regression with Single Variable"
   ]
  },
  {
   "cell_type": "markdown",
   "metadata": {},
   "source": [
    "Linear regression is the first of the supervised learning models we will learn. Linear regression models are used to make predictions based on data. The basic assumption these models makes is that past predict the future.  \n",
    "Regression means finding relationships between variables.It helps us to understand how changes in one or more independent variables affect the depedent variable.By adding the term linear, we are stating the assumption that the relationship we are interested to find out is a linear one.  \n",
    "Let's create a dummy dataset on which we will use for this discussion."
   ]
  },
  {
   "cell_type": "code",
   "execution_count": 25,
   "metadata": {
    "collapsed": true
   },
   "outputs": [],
   "source": [
    "import numpy as np\n",
    "import matplotlib.pyplot as plt\n",
    "%matplotlib inline"
   ]
  },
  {
   "cell_type": "code",
   "execution_count": 190,
   "metadata": {},
   "outputs": [
    {
     "data": {
      "text/plain": [
       "<matplotlib.collections.PathCollection at 0x7f8f0658d7b8>"
      ]
     },
     "execution_count": 190,
     "metadata": {},
     "output_type": "execute_result"
    },
    {
     "data": {
      "image/png": "[encoded data removed]",
      "text/plain": [
       "<matplotlib.figure.Figure at 0x7f8f0663eb70>"
      ]
     },
     "metadata": {},
     "output_type": "display_data"
    }
   ],
   "source": [
    "np.random.seed(12)\n",
    "num_observations = 50\n",
    "x1 = np.random.multivariate_normal([0, 0], [[1, .75],[.75, 1]], num_observations)\n",
    "plt.figure(figsize=(6,4))\n",
    "plt.scatter(x1[:, 0],x1[:, 1])"
   ]
  },
  {
   "cell_type": "markdown",
   "metadata": {},
   "source": [
    "##### correlation\n",
    "The first thing one should do before applying linear regression is to check the assumption that the relationship between the primary and predictive variable is infact linear. One of the methods to check that is to calculate correlation.Correlation is a statistical measure of linearity and indicates how two variables relate to one another. The correlation between any two variable can be between -1 and 1, 1 means perfect correlation, 0 means no correlation (independence) and -1 indicates perfectly inverse correlation."
   ]
  },
  {
   "cell_type": "code",
   "execution_count": 192,
   "metadata": {},
   "outputs": [
    {
     "name": "stdout",
     "output_type": "stream",
     "text": [
      "0.734452691065\n"
     ]
    }
   ],
   "source": [
    "def covariance(variable_1, variable_2, bias=0):       \n",
    "    observations = float(len(variable_1))      \n",
    "    return np.sum((variable_1 - np.mean(variable_1)) * \\\n",
    "                  (variable_2 - np.mean(variable_2)))/(observations-min(bias,1))  \n",
    "\n",
    "def standardize(variable):      \n",
    "    return (variable - np.mean(variable)) / np.std(variable)  \n",
    "\n",
    "def correlation(var1,var2,bias=0):      \n",
    "    return covariance(standardize(var1), standardize(var2),bias)\n",
    "\n",
    "print(correlation(x1[:, 0],x1[:, 1]))"
   ]
  },
  {
   "cell_type": "markdown",
   "metadata": {},
   "source": [
    "The above code was just for reference, numpy has a built-in method to calculate correlation:"
   ]
  },
  {
   "cell_type": "code",
   "execution_count": 193,
   "metadata": {},
   "outputs": [
    {
     "name": "stdout",
     "output_type": "stream",
     "text": [
      "[[ 1.          0.73445269]\n",
      " [ 0.73445269  1.        ]]\n"
     ]
    }
   ],
   "source": [
    "print(np.corrcoef((x1[:, 0],(x1[:, 1]))))"
   ]
  },
  {
   "cell_type": "markdown",
   "metadata": {},
   "source": [
    "Correlation of 0.73 is shows strong linear dependency and hence linear regression can be applied for making predictions.       \n",
    "  \n",
    "The variable that we want to predict is called a **target** variable. Conventionally, it is represented by y . On the other hand, the variables which are used to make the predictions are called predictive variables/features/attributes/dimensions. As a collection, they are denoted by **X**. Mathematically, **X** is a matrix called as feature matrix in which features are represented as columns.  \n",
    "\n",
    "In supervised learning, we want to find a function h, that when applied to **X** produces y, or\n",
    "$$ y= h(X)$$\n",
    "The function h is called as an hypothesis function.  \n",
    "In case of linear regression, we try to fit a straight line through a given set of points.So for linear regression, our hypothesis function becomes:  \n",
    "$$ y = \\beta_0+\\beta X$$\n",
    "Now in order to make predictions, we want to find the line which fits the data. But you can see that there are multiple ways to draw the line."
   ]
  },
  {
   "cell_type": "code",
   "execution_count": 191,
   "metadata": {},
   "outputs": [
    {
     "data": {
      "text/plain": [
       "[<matplotlib.lines.Line2D at 0x7f8f064f8828>]"
      ]
     },
     "execution_count": 191,
     "metadata": {},
     "output_type": "execute_result"
    },
    {
     "data": {
      "image/png": "[encoded data removed]",
      "text/plain": [
       "<matplotlib.figure.Figure at 0x7f8f065df208>"
      ]
     },
     "metadata": {},
     "output_type": "display_data"
    }
   ],
   "source": [
    "np.random.seed(12)\n",
    "num_observations = 50\n",
    "x1 = np.random.multivariate_normal([0, 0], [[1, .75],[.75, 1]], num_observations)\n",
    "plt.figure(figsize=(6,4))\n",
    "plt.scatter(x1[:, 0],x1[:, 1])\n",
    "plt.plot([-2, 3], [-2, 3], marker = 'o', color=\"green\")\n",
    "plt.plot([-1, 2], [-2, 3], marker = 'o', color=\"red\")\n",
    "plt.plot([-2, 3], [0, 0], marker = 'o', color=\"black\")"
   ]
  },
  {
   "cell_type": "markdown",
   "metadata": {},
   "source": [
    "Now we will almost never be able to find a function which when applied to **X** produces y exactly. The hypothesis function will always be an approximation.  \n",
    "So how do we measure how good an approximation our model is. We define another function which measures the accuracy in predictions on the training dataset. This function is called as a cost function."
   ]
  },
  {
   "cell_type": "markdown",
   "metadata": {},
   "source": [
    "One of the popular and simple cost function is Root Mean Square Error (RMSE).It takes an average difference of all the results of the hypothesis with inputs from x's and the actual output y's.\n",
    "$$ J(\\theta_0, \\theta_1) = \\dfrac {1}{2m} \\displaystyle \\sum _{i=1}^m \\left ( \\hat{y}_{i}- y_{i} \\right)^2 = \\dfrac {1}{2m} \\displaystyle \\sum _{i=1}^m \\left (h_\\theta (x_{i}) - y_{i} \\right)^2 $$"
   ]
  },
  {
   "cell_type": "markdown",
   "metadata": {},
   "source": [
    "Having identified our cost function, our next goal is to find a line which **minimizes** the cost function,i.e. which minimizes the error in predictions."
   ]
  },
  {
   "cell_type": "markdown",
   "metadata": {},
   "source": [
    "The most popular algorithms to do the optimization (minimization) in case of RMSE, is **gradient descent**. It is an iterative algorithm that will tries to move values of cofficients in a direction which minimizes the loss in each iteration."
   ]
  },
  {
   "cell_type": "markdown",
   "metadata": {},
   "source": [
    "$$ \\begin{align*} \\text{repeat until convergence: } \\lbrace & \\newline \\theta_0 := & \\theta_0 - \\alpha \\frac{1}{m} \\sum\\limits_{i=1}^{m}(h_\\theta(x_{i}) - y_{i}) \\newline \\theta_1 := & \\theta_1 - \\alpha \\frac{1}{m} \\sum\\limits_{i=1}^{m}\\left((h_\\theta(x_{i}) - y_{i}) x_{i}\\right) \\newline \\rbrace& \\end{align*} $$"
   ]
  },
  {
   "cell_type": "markdown",
   "metadata": {},
   "source": [
    "It is important to note that it's possible that the values derived from gradient descent are not the optimal ones, or even that the algorithm never converges. Optimization problems can get stuck into local minima."
   ]
  },
  {
   "cell_type": "code",
   "execution_count": 176,
   "metadata": {
    "collapsed": true
   },
   "outputs": [],
   "source": [
    "def gradientDescent(x, y, theta, alpha, m, numIterations):\n",
    "    xTrans = x.transpose()\n",
    "    for i in range(0, numIterations):\n",
    "        hypothesis = np.dot(x, theta[0][1])+theta[0][0]\n",
    "        loss = (hypothesis).transpose() - y.transpose()\n",
    "        cost = np.sum(loss) / (m)\n",
    "        if i%1000==0:\n",
    "            print(\"Iteration %d | Cost: %f\" % (i, cost))\n",
    "        gradient = np.dot(xTrans, loss.transpose()) / m\n",
    "        theta0 = theta[0][0] - alpha * cost\n",
    "        theta1 = theta[0][1] - alpha * gradient\n",
    "        theta = np.array([[theta0,theta1]])\n",
    "    return theta"
   ]
  },
  {
   "cell_type": "code",
   "execution_count": 194,
   "metadata": {},
   "outputs": [
    {
     "name": "stdout",
     "output_type": "stream",
     "text": [
      "Iteration 0 | Cost: 1.094101\n",
      "Iteration 1000 | Cost: 0.007889\n",
      "Iteration 2000 | Cost: 0.000107\n",
      "Iteration 3000 | Cost: 0.000002\n",
      "Iteration 4000 | Cost: 0.000000\n",
      "Iteration 5000 | Cost: 0.000000\n",
      "Iteration 6000 | Cost: 0.000000\n",
      "Iteration 7000 | Cost: 0.000000\n",
      "Iteration 8000 | Cost: 0.000000\n",
      "Iteration 9000 | Cost: 0.000000\n",
      "[[-0.05432944  0.79343788]]\n"
     ]
    },
    {
     "data": {
      "text/plain": [
       "[<matplotlib.lines.Line2D at 0x7f8f0653d550>]"
      ]
     },
     "execution_count": 194,
     "metadata": {},
     "output_type": "execute_result"
    },
    {
     "data": {
      "image/png": "[encoded data removed]",
      "text/plain": [
       "<matplotlib.figure.Figure at 0x7f8f065089b0>"
      ]
     },
     "metadata": {},
     "output_type": "display_data"
    }
   ],
   "source": [
    "numIterations= 10000\n",
    "alpha = 0.005\n",
    "theta =  np.array([[1,1]])\n",
    "X = np.array(x1[:, 0]).reshape(num_observations,1)\n",
    "y = np.array(x1[:, 1]).reshape(num_observations,1)\n",
    "theta = gradientDescent(X, x1[:, 1], theta, alpha, num_observations, numIterations)\n",
    "print(theta)\n",
    "plt.scatter(x1[:, 0],x1[:, 1])\n",
    "plt.plot(X, X*theta[0][1] + theta[0][0], 'r')"
   ]
  },
  {
   "cell_type": "markdown",
   "metadata": {},
   "source": [
    "#### Making predictions\n",
    "Now that we have our equation of line, we can use that to make predictions about any input values."
   ]
  },
  {
   "cell_type": "code",
   "execution_count": 196,
   "metadata": {},
   "outputs": [
    {
     "name": "stdout",
     "output_type": "stream",
     "text": [
      "7.88004940235\n"
     ]
    }
   ],
   "source": [
    "#General equation of line:\n",
    "#y=theta[0][1]*x+theta[0][0]\n",
    "y_10  = theta[0][1]*10+theta[0][0]\n",
    "print(y_10)"
   ]
  },
  {
   "cell_type": "markdown",
   "metadata": {},
   "source": [
    "Once we got the intution behind the linear regression, we will start to use machine learning libraries which are going to do most of the heavy lifting for us. One of the most popular machine learning libraries in python is sklearn. Let's use it's api to do the same regression and check if we get the same results."
   ]
  },
  {
   "cell_type": "code",
   "execution_count": 178,
   "metadata": {},
   "outputs": [
    {
     "name": "stdout",
     "output_type": "stream",
     "text": [
      "Coefficients: \n",
      " [[ 0.79343788]]\n",
      "Intercept: \n",
      " [-0.05432944]\n"
     ]
    }
   ],
   "source": [
    "from sklearn import datasets, linear_model\n",
    "from sklearn.metrics import mean_squared_error, r2_score\n",
    "regr = linear_model.LinearRegression()\n",
    "regr.fit(X, y)\n",
    "print('Coefficients: \\n', regr.coef_)\n",
    "print('Intercept: \\n', regr.intercept_)\n"
   ]
  },
  {
   "cell_type": "code",
   "execution_count": 179,
   "metadata": {},
   "outputs": [
    {
     "data": {
      "text/plain": [
       "[<matplotlib.lines.Line2D at 0x7f8f06830ef0>]"
      ]
     },
     "execution_count": 179,
     "metadata": {},
     "output_type": "execute_result"
    },
    {
     "data": {
      "image/png": "[encoded data removed]",
      "text/plain": [
       "<matplotlib.figure.Figure at 0x7f8f06770ef0>"
      ]
     },
     "metadata": {},
     "output_type": "display_data"
    }
   ],
   "source": [
    "plt.figure(figsize=(6,4))\n",
    "plt.scatter(x1[:, 0],x1[:, 1])\n",
    "plt.plot(X, regr.predict(X), color='blue', linewidth=3)"
   ]
  },
  {
   "cell_type": "markdown",
   "metadata": {
    "collapsed": true
   },
   "source": [
    "#### Parameters and Hyper-parameters"
   ]
  },
  {
   "cell_type": "markdown",
   "metadata": {},
   "source": [
    "What we set out to do above is finding the coefficient and intercept for the linear equation. The attributes we are trying to derive from a system are called parameters, in above case it's the coefficient and the intercept.  \n",
    "However, inorder to search for the best fitting parameters, we used the gradient descent algorithm which has it's own set of parameters which influces the effectiveness. The parameter in GD was the learning rate (alpha). Such parameters, which are not the properties of the model itself, but has influence over them are called hyper-parameters."
   ]
  }
 ],
 "metadata": {
  "kernelspec": {
   "display_name": "Python 3",
   "language": "python",
   "name": "python3"
  },
  "language_info": {
   "codemirror_mode": {
    "name": "ipython",
    "version": 3
   },
   "file_extension": ".py",
   "mimetype": "text/x-python",
   "name": "python",
   "nbconvert_exporter": "python",
   "pygments_lexer": "ipython3",
   "version": "3.4.5"
  }
 },
 "nbformat": 4,
 "nbformat_minor": 2
}
